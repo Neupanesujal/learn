{
 "cells": [
  {
   "cell_type": "code",
   "execution_count": 1,
   "id": "3bebbe90",
   "metadata": {},
   "outputs": [
    {
     "data": {
      "text/plain": [
       "80"
      ]
     },
     "execution_count": 1,
     "metadata": {},
     "output_type": "execute_result"
    }
   ],
   "source": [
    "def multiply(*numbers):\n",
    "    result = 1\n",
    "    for n in numbers:\n",
    "        result *= n\n",
    "    return result\n",
    "\n",
    "multiply(2,5,8)\n",
    "        "
   ]
  },
  {
   "cell_type": "code",
   "execution_count": 2,
   "id": "5fc689fd",
   "metadata": {},
   "outputs": [
    {
     "name": "stdout",
     "output_type": "stream",
     "text": [
      "1 2\n",
      "(4, 'a')\n"
     ]
    }
   ],
   "source": [
    "def numbers(a,b, *args):\n",
    "    print(a,b)\n",
    "    print(args)\n",
    "\n",
    "numbers(1,2,4,'a')"
   ]
  },
  {
   "cell_type": "raw",
   "id": "f43ea367",
   "metadata": {},
   "source": [
    "*variable_name lai pointer jasari bujna milxa\n",
    "args le chai a ra b paxadi ko sabai lai tuple ma store garera rakhxa\n"
   ]
  },
  {
   "cell_type": "code",
   "execution_count": 3,
   "id": "e6eeaa10",
   "metadata": {},
   "outputs": [
    {
     "name": "stdout",
     "output_type": "stream",
     "text": [
      "2 3\n",
      "(4,)\n",
      "True\n",
      "{'name': 1}\n"
     ]
    }
   ],
   "source": [
    "def numbers(a, b, *args, parameter= True, **kwargs):\n",
    "    print(a,b)\n",
    "    print(args)\n",
    "    print(parameter)\n",
    "    print(kwargs)\n",
    "\n",
    "numbers(2,3,4,name=1)\n"
   ]
  },
  {
   "cell_type": "raw",
   "id": "d9b1806c",
   "metadata": {},
   "source": [
    "* bacheko unnamed argument store garxa\n",
    "** dictionary lai store garxa\n",
    "what this mean is *args le chai bacheko sabai argument lai point garxa  ... (unnamed)\n",
    "and **kwargs le chai keyword argument lai point garxa...  (named)"
   ]
  },
  {
   "cell_type": "raw",
   "id": "a3f05cda",
   "metadata": {},
   "source": [
    "numbers(a=1, b=2, 4,5) gives error because positional argument must be before functional argument\n",
    "just like functional overloading in c++"
   ]
  },
  {
   "cell_type": "code",
   "execution_count": 4,
   "id": "78014371",
   "metadata": {},
   "outputs": [
    {
     "name": "stdout",
     "output_type": "stream",
     "text": [
      "2\n",
      "(3, 7, '..')\n",
      "{'par': 'hola', 'param_1': 'sujal', 'param_2': 'lajus'}\n",
      "dict_values(['hola', 'sujal', 'lajus'])\n"
     ]
    }
   ],
   "source": [
    "def numbers(a, *args, **kwargs):\n",
    "    print(a)\n",
    "    print(args)\n",
    "    print(kwargs)\n",
    "    print(kwargs.values())\n",
    "    \n",
    "s={'param_1':'sujal', 'param_2':\"lajus\"}    \n",
    "numbers(2,3,7, '..', par='hola', **s)"
   ]
  },
  {
   "cell_type": "code",
   "execution_count": 13,
   "id": "250f8ae5",
   "metadata": {},
   "outputs": [
    {
     "name": "stdout",
     "output_type": "stream",
     "text": [
      "{\n",
      "  \"a\": 1,\n",
      "  \"b\": 2\n",
      "}\n"
     ]
    }
   ],
   "source": [
    "import json\n",
    "import pathlib\n",
    "\n",
    "def dict_to_config(dictionary, file=\"config.json\", verbose=False, **kwargs):\n",
    "    json_txt = json.dumps(dictionary, **kwargs)\n",
    "    if verbose:\n",
    "        print(json_txt)\n",
    "    pathlib.Path(file).write_text(json_txt)\n",
    "\n",
    "dict_to_config({'a':1,'b':2}, verbose=True, indent=2)\n"
   ]
  },
  {
   "cell_type": "raw",
   "id": "1036e9c8",
   "metadata": {},
   "source": [
    "instead of writting indent=none in function while defining ... we can replace many of such by simply using **kwargs"
   ]
  },
  {
   "cell_type": "code",
   "execution_count": null,
   "id": "cf09006e",
   "metadata": {},
   "outputs": [],
   "source": []
  }
 ],
 "metadata": {
  "kernelspec": {
   "display_name": "Python 3 (ipykernel)",
   "language": "python",
   "name": "python3"
  },
  "language_info": {
   "codemirror_mode": {
    "name": "ipython",
    "version": 3
   },
   "file_extension": ".py",
   "mimetype": "text/x-python",
   "name": "python",
   "nbconvert_exporter": "python",
   "pygments_lexer": "ipython3",
   "version": "3.9.12"
  }
 },
 "nbformat": 4,
 "nbformat_minor": 5
}
